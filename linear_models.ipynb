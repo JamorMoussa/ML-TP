{
 "cells": [
  {
   "cell_type": "markdown",
   "id": "1c551bfa-a919-4de6-aaaa-d75f1f81b636",
   "metadata": {},
   "source": [
    "### <center> Linear Models"
   ]
  },
  {
   "cell_type": "code",
   "execution_count": 2,
   "id": "fa0278fc-c923-4109-b01d-993fdd2e10fc",
   "metadata": {},
   "outputs": [],
   "source": [
    "# import important libraries : \n",
    "import numpy as np\n",
    "import matplotlib.pyplot as plt"
   ]
  },
  {
   "cell_type": "markdown",
   "id": "b82407da-f72e-45aa-a078-70925f652da4",
   "metadata": {},
   "source": [
    "## Linear Regression : "
   ]
  },
  {
   "cell_type": "markdown",
   "id": "58856cc8-2688-4b16-98b2-fc3d4d2602e0",
   "metadata": {},
   "source": [
    "### The Theory :  "
   ]
  },
  {
   "cell_type": "markdown",
   "id": "d77b9940-07f3-4094-be18-fb4c0e2032d1",
   "metadata": {},
   "source": [
    "Let the training data $S = \\{ (x_1, y_i) \\}_{i=0}^{m}$, where $x_i \\in \\mathbb{R}^d$ and $y_i \\in \\mathbb{R}$\n",
    "\n",
    "<u><b>The purpose :</b></u> \n",
    "\n",
    "Is to find a regressor $h_s$, in the linear regression algorithm : \n",
    "\n",
    "$$ h_s(x) = w^T.x$$\n",
    "\n",
    "> Note :\n",
    "> \n",
    "> $w \\in \\mathbb{R}^{d+1}$, because we include the bias $w_0$, by including $1$ in sample $x = [1, x_1, ..., x_d ]$\n",
    "\n",
    "Let define the Loss function, in regression problems, specially in Linear Regression, we consider:\n",
    "\n",
    "$$ L_s(h_s) = \\frac{1}{m} \\sum_{i = 1}^{m} (y_i - w^T.x_i)^2 $$\n",
    "\n",
    "The optimal $w^*$ is given by : \n",
    "\n",
    "$$ w^* = \\arg\\min_{w \\in \\mathbb{R}^{d+1}} L_s(h_s) =  \\arg\\min_{w \\in \\mathbb{R}^{d+1}} \\frac{1}{m} \\sum_{i = 1}^{m} (w^T.x_i - y_i)^2 $$\n",
    "\n",
    "o solve this problem, we calculate the gradient of the objective function and\n",
    "compare it to zero : \n",
    "\n",
    "$$ \\nabla{L_s(h_s)} = \\frac{2}{m} \\sum_{i = 1}^{m} (w^T.x_i - y_i).x_i$$\n"
   ]
  },
  {
   "cell_type": "markdown",
   "id": "190db113-b925-4857-907c-d55843c1a653",
   "metadata": {},
   "source": [
    "### Prepare Data : "
   ]
  },
  {
   "cell_type": "code",
   "execution_count": 86,
   "id": "44cb1e68-2e00-4e61-ae49-13bdc796e8a8",
   "metadata": {},
   "outputs": [],
   "source": [
    "data = np.loadtxt(\"./linreg.csv\", delimiter=',')"
   ]
  },
  {
   "cell_type": "code",
   "execution_count": 87,
   "id": "54f4e423-1cd4-48a5-b6e0-11eae20ff421",
   "metadata": {},
   "outputs": [
    {
     "data": {
      "text/plain": [
       "array([[ 0.37553646, -2.22354342],\n",
       "       [ 0.65627652, -1.40123569],\n",
       "       [ 0.71311158, -1.44500759],\n",
       "       [ 0.65702952, -1.63459466],\n",
       "       [ 0.56116442, -1.70293105],\n",
       "       [ 0.05526398, -2.60199084],\n",
       "       [ 0.55730574, -1.62237506],\n",
       "       [ 0.77161704, -1.17947639],\n",
       "       [ 0.94616233, -0.98599069],\n",
       "       [ 0.64218085, -1.63081888]])"
      ]
     },
     "execution_count": 87,
     "metadata": {},
     "output_type": "execute_result"
    }
   ],
   "source": [
    "data[:10]"
   ]
  },
  {
   "cell_type": "code",
   "execution_count": 88,
   "id": "99c373dd-bd51-4fe6-ad1f-b73adc699bcd",
   "metadata": {},
   "outputs": [],
   "source": [
    "X_train, y_train = data[:, 0], data[:, 1]"
   ]
  },
  {
   "cell_type": "markdown",
   "id": "ad5da2cf-5500-4345-bb61-f54e5132f66c",
   "metadata": {},
   "source": [
    "### plot dataset"
   ]
  },
  {
   "cell_type": "code",
   "execution_count": 89,
   "id": "72068573-5faa-47de-9504-1f49c89a85b7",
   "metadata": {},
   "outputs": [
    {
     "data": {
      "text/plain": [
       "<matplotlib.collections.PathCollection at 0x7f29840a9ad0>"
      ]
     },
     "execution_count": 89,
     "metadata": {},
     "output_type": "execute_result"
    },
    {
     "data": {
      "image/png": "[encoded data removed]",
      "text/plain": [
       "<Figure size 640x480 with 1 Axes>"
      ]
     },
     "metadata": {},
     "output_type": "display_data"
    }
   ],
   "source": [
    "plt.scatter(X_train, y_train)"
   ]
  },
  {
   "cell_type": "markdown",
   "id": "9d461962-151b-4b1c-aa55-781453cd62f1",
   "metadata": {},
   "source": [
    "### Build Model : "
   ]
  },
  {
   "cell_type": "code",
   "execution_count": 232,
   "id": "6eecf1d7-36a6-426a-832a-f91b151ae6bb",
   "metadata": {},
   "outputs": [],
   "source": [
    "class LinearRegression:\n",
    "\n",
    "    def __init__(self, lr=0.01, Tmax = 100,  eps=0.2, name = \"Linear Regression\"):\n",
    "        self.lr = lr\n",
    "        self.eps = eps\n",
    "        self.w : np.ndarray \n",
    "        self.lossHist : list = []\n",
    "        self.name = name\n",
    "        self.ls : float\n",
    "        self.Tmax = Tmax\n",
    "        \n",
    "    def hs(self, xi):\n",
    "        return self.w @ xi\n",
    "\n",
    "    def loss(self, X, y):\n",
    "        return (1/len(X)) * sum((y[i] - self.hs(xi))**2 for i, xi in enumerate(X))\n",
    "\n",
    "    def grad(self, X, y):\n",
    "        return (2/len(X)) * sum((self.hs(xi) - y[i])*xi for i, xi in enumerate(X))\n",
    "\n",
    "    def _dataVal(self, X, y):\n",
    "        if X.ndim == 1:\n",
    "            X = X.reshape(-1, 1)\n",
    "        if y.ndim == 1:\n",
    "            y = y.reshape(-1, 1)\n",
    "        return np.block([np.ones((X.shape[0], 1)), X]), y\n",
    "\n",
    "    def fit(self, X, y):\n",
    "        \n",
    "        X, y = self._dataVal(X, y)\n",
    "        \n",
    "        m , d = X.shape\n",
    "        \n",
    "        self.w = np.random.rand(d)\n",
    "        \n",
    "        self.lossHist.append(self.loss(X, y))\n",
    "\n",
    "        self.ls = self.loss(X, y)\n",
    "\n",
    "        t = 0\n",
    "\n",
    "        for i in range(self.Tmax):\n",
    "            self.w -= self.lr * self.grad(X, y)\n",
    "\n",
    "            self.ls = self.loss(X, y)\n",
    "            \n",
    "            t += 1     \n",
    "            if t%10==0:\n",
    "                self.lossHist.append(self.ls)\n",
    "                print(f\"iter : {t} ,loss : {self.ls}\")\n",
    "\n",
    "    def summary(self):\n",
    "        print(f\"======== {self.name} model summary : \", \"=\"*50)\n",
    "        print(f\" weights : {self.w}\")\n",
    "        print(f\" loss : {self.ls}\")\n",
    "        print(f\"\\nplot the loss : \")\n",
    "        plt.plot(range(0, len(self.lossHist)), self.lossHist) "
   ]
  },
  {
   "cell_type": "code",
   "execution_count": 233,
   "id": "70a0efc7-f320-4951-9b0c-295ba01ad7e7",
   "metadata": {},
   "outputs": [],
   "source": [
    "lg = LinearRegression(lr=0.1, Tmax = 1000)"
   ]
  },
  {
   "cell_type": "code",
   "execution_count": 234,
   "id": "23b4aa6e-6159-4438-90f3-422c62e5fc17",
   "metadata": {},
   "outputs": [
    {
     "name": "stdout",
     "output_type": "stream",
     "text": [
      "iter : 10 ,loss : [0.41883597]\n",
      "iter : 20 ,loss : [0.32510301]\n",
      "iter : 30 ,loss : [0.25899362]\n",
      "iter : 40 ,loss : [0.20668637]\n",
      "iter : 50 ,loss : [0.16528329]\n",
      "iter : 60 ,loss : [0.13251123]\n",
      "iter : 70 ,loss : [0.10657093]\n",
      "iter : 80 ,loss : [0.08603823]\n",
      "iter : 90 ,loss : [0.06978583]\n",
      "iter : 100 ,loss : [0.05692146]\n",
      "iter : 110 ,loss : [0.04673883]\n",
      "iter : 120 ,loss : [0.03867891]\n",
      "iter : 130 ,loss : [0.03229918]\n",
      "iter : 140 ,loss : [0.02724939]\n",
      "iter : 150 ,loss : [0.0232523]\n",
      "iter : 160 ,loss : [0.02008845]\n",
      "iter : 170 ,loss : [0.01758414]\n",
      "iter : 180 ,loss : [0.01560189]\n",
      "iter : 190 ,loss : [0.01403287]\n",
      "iter : 200 ,loss : [0.01279093]\n",
      "iter : 210 ,loss : [0.01180789]\n",
      "iter : 220 ,loss : [0.01102978]\n",
      "iter : 230 ,loss : [0.01041387]\n",
      "iter : 240 ,loss : [0.00992636]\n",
      "iter : 250 ,loss : [0.00954047]\n",
      "iter : 260 ,loss : [0.00923503]\n",
      "iter : 270 ,loss : [0.00899327]\n",
      "iter : 280 ,loss : [0.0088019]\n",
      "iter : 290 ,loss : [0.00865042]\n",
      "iter : 300 ,loss : [0.00853052]\n",
      "iter : 310 ,loss : [0.00843562]\n",
      "iter : 320 ,loss : [0.0083605]\n",
      "iter : 330 ,loss : [0.00830104]\n",
      "iter : 340 ,loss : [0.00825398]\n",
      "iter : 350 ,loss : [0.00821672]\n",
      "iter : 360 ,loss : [0.00818723]\n",
      "iter : 370 ,loss : [0.00816389]\n",
      "iter : 380 ,loss : [0.00814542]\n",
      "iter : 390 ,loss : [0.00813079]\n",
      "iter : 400 ,loss : [0.00811922]\n",
      "iter : 410 ,loss : [0.00811006]\n",
      "iter : 420 ,loss : [0.00810281]\n",
      "iter : 430 ,loss : [0.00809707]\n",
      "iter : 440 ,loss : [0.00809252]\n",
      "iter : 450 ,loss : [0.00808892]\n",
      "iter : 460 ,loss : [0.00808608]\n",
      "iter : 470 ,loss : [0.00808382]\n",
      "iter : 480 ,loss : [0.00808204]\n",
      "iter : 490 ,loss : [0.00808063]\n",
      "iter : 500 ,loss : [0.00807951]\n",
      "iter : 510 ,loss : [0.00807863]\n",
      "iter : 520 ,loss : [0.00807793]\n",
      "iter : 530 ,loss : [0.00807737]\n",
      "iter : 540 ,loss : [0.00807693]\n",
      "iter : 550 ,loss : [0.00807659]\n",
      "iter : 560 ,loss : [0.00807631]\n",
      "iter : 570 ,loss : [0.00807609]\n",
      "iter : 580 ,loss : [0.00807592]\n",
      "iter : 590 ,loss : [0.00807579]\n",
      "iter : 600 ,loss : [0.00807568]\n",
      "iter : 610 ,loss : [0.00807559]\n",
      "iter : 620 ,loss : [0.00807553]\n",
      "iter : 630 ,loss : [0.00807547]\n",
      "iter : 640 ,loss : [0.00807543]\n",
      "iter : 650 ,loss : [0.0080754]\n",
      "iter : 660 ,loss : [0.00807537]\n",
      "iter : 670 ,loss : [0.00807535]\n",
      "iter : 680 ,loss : [0.00807533]\n",
      "iter : 690 ,loss : [0.00807532]\n",
      "iter : 700 ,loss : [0.00807531]\n",
      "iter : 710 ,loss : [0.0080753]\n",
      "iter : 720 ,loss : [0.00807529]\n",
      "iter : 730 ,loss : [0.00807529]\n",
      "iter : 740 ,loss : [0.00807528]\n",
      "iter : 750 ,loss : [0.00807528]\n",
      "iter : 760 ,loss : [0.00807528]\n",
      "iter : 770 ,loss : [0.00807528]\n",
      "iter : 780 ,loss : [0.00807528]\n",
      "iter : 790 ,loss : [0.00807527]\n",
      "iter : 800 ,loss : [0.00807527]\n",
      "iter : 810 ,loss : [0.00807527]\n",
      "iter : 820 ,loss : [0.00807527]\n",
      "iter : 830 ,loss : [0.00807527]\n",
      "iter : 840 ,loss : [0.00807527]\n",
      "iter : 850 ,loss : [0.00807527]\n",
      "iter : 860 ,loss : [0.00807527]\n",
      "iter : 870 ,loss : [0.00807527]\n",
      "iter : 880 ,loss : [0.00807527]\n",
      "iter : 890 ,loss : [0.00807527]\n",
      "iter : 900 ,loss : [0.00807527]\n",
      "iter : 910 ,loss : [0.00807527]\n",
      "iter : 920 ,loss : [0.00807527]\n",
      "iter : 930 ,loss : [0.00807527]\n",
      "iter : 940 ,loss : [0.00807527]\n",
      "iter : 950 ,loss : [0.00807527]\n",
      "iter : 960 ,loss : [0.00807527]\n",
      "iter : 970 ,loss : [0.00807527]\n",
      "iter : 980 ,loss : [0.00807527]\n",
      "iter : 990 ,loss : [0.00807527]\n",
      "iter : 1000 ,loss : [0.00807527]\n"
     ]
    }
   ],
   "source": [
    "lg.fit(X_train, y_train)"
   ]
  },
  {
   "cell_type": "code",
   "execution_count": 235,
   "id": "c7d42ce4-7c68-4a36-8502-8ce005feb88c",
   "metadata": {},
   "outputs": [
    {
     "data": {
      "text/plain": [
       "array([-2.83429682,  1.97051176])"
      ]
     },
     "execution_count": 235,
     "metadata": {},
     "output_type": "execute_result"
    }
   ],
   "source": [
    "lg.w"
   ]
  },
  {
   "cell_type": "code",
   "execution_count": 236,
   "id": "bf821daa-ad3c-4f0f-8f24-8ea4148cc84d",
   "metadata": {},
   "outputs": [
    {
     "name": "stdout",
     "output_type": "stream",
     "text": [
      "======== Linear Regression model summary :  ==================================================\n",
      " weights : [-2.83429682  1.97051176]\n",
      " loss : [0.00807527]\n",
      "\n",
      "plot the loss : \n"
     ]
    },
    {
     "data": {
      "image/png": "[encoded data removed]",
      "text/plain": [
       "<Figure size 640x480 with 1 Axes>"
      ]
     },
     "metadata": {},
     "output_type": "display_data"
    }
   ],
   "source": [
    "lg.summary()"
   ]
  },
  {
   "cell_type": "code",
   "execution_count": 224,
   "id": "ed81e294-1142-4c22-b07b-8a592e9775cc",
   "metadata": {},
   "outputs": [
    {
     "data": {
      "text/plain": [
       "<matplotlib.collections.PathCollection at 0x7f2983613350>"
      ]
     },
     "execution_count": 224,
     "metadata": {},
     "output_type": "execute_result"
    },
    {
     "data": {
      "image/png": "[encoded data removed]",
      "text/plain": [
       "<Figure size 640x480 with 1 Axes>"
      ]
     },
     "metadata": {},
     "output_type": "display_data"
    }
   ],
   "source": [
    "t = np.linspace(0, 1, 100)\n",
    "y = lg.w[0] + lg.w[1]*t\n",
    "plt.plot(t, y, c=\"red\")\n",
    "plt.scatter(X_train, y_train)"
   ]
  },
  {
   "cell_type": "code",
   "execution_count": null,
   "id": "3a9be225-61ab-4ba7-a22c-c54b0e6829ae",
   "metadata": {},
   "outputs": [],
   "source": []
  }
 ],
 "metadata": {
  "kernelspec": {
   "display_name": "Python 3 (ipykernel)",
   "language": "python",
   "name": "python3"
  },
  "language_info": {
   "codemirror_mode": {
    "name": "ipython",
    "version": 3
   },
   "file_extension": ".py",
   "mimetype": "text/x-python",
   "name": "python",
   "nbconvert_exporter": "python",
   "pygments_lexer": "ipython3",
   "version": "3.11.6"
  }
 },
 "nbformat": 4,
 "nbformat_minor": 5
}
